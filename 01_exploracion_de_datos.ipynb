{
  "nbformat": 4,
  "nbformat_minor": 0,
  "metadata": {
    "colab": {
      "provenance": [],
      "authorship_tag": "ABX9TyObutcxogenu5/Wbf3cIm8M",
      "include_colab_link": true
    },
    "kernelspec": {
      "name": "python3",
      "display_name": "Python 3"
    },
    "language_info": {
      "name": "python"
    }
  },
  "cells": [
    {
      "cell_type": "markdown",
      "metadata": {
        "id": "view-in-github",
        "colab_type": "text"
      },
      "source": [
        "<a href=\"https://colab.research.google.com/github/kevindmzapata/deep-learning-project/blob/main/01_exploracion_de_datos.ipynb\" target=\"_parent\"><img src=\"https://colab.research.google.com/assets/colab-badge.svg\" alt=\"Open In Colab\"/></a>"
      ]
    },
    {
      "cell_type": "markdown",
      "source": [
        "# 01 - Exploración de los Datos\n",
        "\n",
        "## I. Librerias necesarias"
      ],
      "metadata": {
        "id": "BiaHVIj16Plt"
      }
    },
    {
      "cell_type": "code",
      "source": [
        "!wget -nc --no-cache -O database.zip -q https://raw.githubusercontent.com/kevindmzapata/deep-learning-project/main/database.zip\n",
        "!unzip -n -q database.zip\n",
        "!rm database.zip\n",
        "!wget -nc --no-cache -O utils.py -q https://raw.githubusercontent.com/kevindmzapata/deep-learning-project/main/resources/utils.py"
      ],
      "metadata": {
        "id": "291jYagR9oXt"
      },
      "execution_count": 1,
      "outputs": []
    },
    {
      "cell_type": "code",
      "execution_count": 2,
      "metadata": {
        "id": "O45plYIe6LmM"
      },
      "outputs": [],
      "source": [
        "import numpy as np\n",
        "import matplotlib.pyplot as plt\n",
        "import tensorflow as tf\n",
        "from utils import load_data"
      ]
    },
    {
      "cell_type": "markdown",
      "source": [
        "## II. Cargar las imagenes de la base de datos"
      ],
      "metadata": {
        "id": "1vYFXHL59r5o"
      }
    },
    {
      "cell_type": "code",
      "source": [
        "images, labels, ch_spacing = load_data('database')"
      ],
      "metadata": {
        "id": "9xoOAS419A4b"
      },
      "execution_count": 3,
      "outputs": []
    },
    {
      "cell_type": "code",
      "source": [
        "images.shape, labels.shape, ch_spacing.shape"
      ],
      "metadata": {
        "colab": {
          "base_uri": "https://localhost:8080/"
        },
        "id": "frDT_8qb9aPm",
        "outputId": "c82556d4-c3f7-4e93-9b5b-27703f3dd52d"
      },
      "execution_count": 4,
      "outputs": [
        {
          "output_type": "execute_result",
          "data": {
            "text/plain": [
              "((729, 32, 32), (729,), (729,))"
            ]
          },
          "metadata": {},
          "execution_count": 4
        }
      ]
    },
    {
      "cell_type": "code",
      "source": [
        "print('Minimo de images:', images.min())\n",
        "print('Maximo de images:', images.max())"
      ],
      "metadata": {
        "colab": {
          "base_uri": "https://localhost:8080/"
        },
        "id": "8K8PxLyq9dIN",
        "outputId": "27ed43b8-bd02-4e07-d17c-a9ec86ad652f"
      },
      "execution_count": 5,
      "outputs": [
        {
          "output_type": "stream",
          "name": "stdout",
          "text": [
            "Minimo de images: 0\n",
            "Maximo de images: 255\n"
          ]
        }
      ]
    },
    {
      "cell_type": "code",
      "source": [
        "print('Minimo de labels:', labels.min())\n",
        "print('Maximo de labels:', labels.max())"
      ],
      "metadata": {
        "colab": {
          "base_uri": "https://localhost:8080/"
        },
        "id": "CUBFaB8J9iaU",
        "outputId": "f1d640b7-7a15-453b-dca6-e53485d7024f"
      },
      "execution_count": 6,
      "outputs": [
        {
          "output_type": "stream",
          "name": "stdout",
          "text": [
            "Minimo de labels: 18.0\n",
            "Maximo de labels: 40.0\n"
          ]
        }
      ]
    },
    {
      "cell_type": "code",
      "source": [
        "print('Minimo del espaciamiento: ', ch_spacing.min())\n",
        "print('Maximo del espaciamiento: ', ch_spacing.max())"
      ],
      "metadata": {
        "colab": {
          "base_uri": "https://localhost:8080/"
        },
        "id": "NGaNH2LjGTQ0",
        "outputId": "6b266d16-aa5b-4c2d-eefd-5321f4f3731c"
      },
      "execution_count": 7,
      "outputs": [
        {
          "output_type": "stream",
          "name": "stdout",
          "text": [
            "Minimo del espaciamiento:  0\n",
            "Maximo del espaciamiento:  7\n"
          ]
        }
      ]
    },
    {
      "cell_type": "markdown",
      "source": [
        "Las imagenes se cargan usando una función dentro de la libreria utils.py. Adicionalmente, se cargan las etiquetas de cada una de las imagenes junto con el valor de espaciamiento de canal que funciona como caractristica extra dentro de la red."
      ],
      "metadata": {
        "id": "rLNZBCu7DCvj"
      }
    },
    {
      "cell_type": "markdown",
      "source": [
        "## III. Mostrar imágenes"
      ],
      "metadata": {
        "id": "NJ_LpdC--ErF"
      }
    },
    {
      "cell_type": "code",
      "source": [
        "X_sample_idx = np.random.randint(0, images.shape[0], 10)\n",
        "X_sample = images[X_sample_idx]\n",
        "y_sample = labels[X_sample_idx]\n",
        "\n",
        "fig, axes = plt.subplots(1, 10, figsize=(20, 2))\n",
        "for i, ax in enumerate(axes):\n",
        "    ax.set_title(f\"{y_sample[i]} dB\")\n",
        "    ax.imshow(X_sample[i])\n",
        "    ax.axis(\"off\")\n",
        "plt.show()"
      ],
      "metadata": {
        "colab": {
          "base_uri": "https://localhost:8080/",
          "height": 190
        },
        "id": "C0jo6Jjf-Bgu",
        "outputId": "c7d3846a-ce72-46cf-8240-f52540e300bc"
      },
      "execution_count": 8,
      "outputs": [
        {
          "output_type": "display_data",
          "data": {
            "text/plain": [
              "<Figure size 2000x200 with 10 Axes>"
            ],
            "image/png": "[encoded data removed]"
          },
          "metadata": {}
        }
      ]
    },
    {
      "cell_type": "markdown",
      "source": [
        "## VI. Normalización de los datos"
      ],
      "metadata": {
        "id": "1Cu9RCWr_A6D"
      }
    },
    {
      "cell_type": "code",
      "source": [
        "X = images.reshape(images.shape[0], images.shape[1] * images.shape[2]) / images.max()\n",
        "y = labels.reshape(labels.shape[0], 1)\n",
        "\n",
        "X.shape, y.shape"
      ],
      "metadata": {
        "colab": {
          "base_uri": "https://localhost:8080/"
        },
        "id": "DaTiKixF_E9V",
        "outputId": "1c94a165-f7fd-4111-8f76-3bc2ffcb837e"
      },
      "execution_count": 9,
      "outputs": [
        {
          "output_type": "execute_result",
          "data": {
            "text/plain": [
              "((729, 1024), (729, 1))"
            ]
          },
          "metadata": {},
          "execution_count": 9
        }
      ]
    },
    {
      "cell_type": "code",
      "source": [
        "ch = np.eye(len(np.unique(ch_spacing)))[ch_spacing]\n",
        "ch.shape"
      ],
      "metadata": {
        "colab": {
          "base_uri": "https://localhost:8080/"
        },
        "id": "cBL5wDa4_XFc",
        "outputId": "cae04990-ee6b-4ccf-a155-6d948ad7ed68"
      },
      "execution_count": 10,
      "outputs": [
        {
          "output_type": "execute_result",
          "data": {
            "text/plain": [
              "(729, 8)"
            ]
          },
          "metadata": {},
          "execution_count": 10
        }
      ]
    },
    {
      "cell_type": "code",
      "source": [
        "X.min(), X.max(), y.min(), y.max(), ch.min(), ch.max()"
      ],
      "metadata": {
        "colab": {
          "base_uri": "https://localhost:8080/"
        },
        "id": "QANmWBrcB8d8",
        "outputId": "f613494c-5bd5-4afb-fb00-0af0328f08bd"
      },
      "execution_count": 11,
      "outputs": [
        {
          "output_type": "execute_result",
          "data": {
            "text/plain": [
              "(0.0, 1.0, 18.0, 40.0, 0.0, 1.0)"
            ]
          },
          "metadata": {},
          "execution_count": 11
        }
      ]
    },
    {
      "cell_type": "code",
      "source": [
        "# Codificación One Hot\n",
        "print(ch[:5])"
      ],
      "metadata": {
        "colab": {
          "base_uri": "https://localhost:8080/"
        },
        "id": "ptiNA44bCEdT",
        "outputId": "4e9d7945-8e86-41e6-f080-c82dcf030578"
      },
      "execution_count": 12,
      "outputs": [
        {
          "output_type": "stream",
          "name": "stdout",
          "text": [
            "[[0. 1. 0. 0. 0. 0. 0. 0.]\n",
            " [0. 0. 0. 0. 1. 0. 0. 0.]\n",
            " [0. 0. 0. 0. 0. 1. 0. 0.]\n",
            " [1. 0. 0. 0. 0. 0. 0. 0.]\n",
            " [0. 1. 0. 0. 0. 0. 0. 0.]]\n"
          ]
        }
      ]
    },
    {
      "cell_type": "markdown",
      "source": [
        "Las imágenes se normalizan entre 0 y 1 dividiendo por el maximo, que es 255. Las etiquetas se dejan con su valor original pero podrían normalizarse entre 0 y 1 posteriormente. Por otro lado, los valor del espaciamiento de canal son valores entre 0 y 7, que corresponden a los 8 espaciamientos que hay dentro de la base de datos. Estos espaciamientos se codifican usando One Hot Encoding."
      ],
      "metadata": {
        "id": "8oSRPnfNC1Di"
      }
    }
  ]
}