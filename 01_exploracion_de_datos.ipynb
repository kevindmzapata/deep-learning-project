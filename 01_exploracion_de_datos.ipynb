{
  "nbformat": 4,
  "nbformat_minor": 0,
  "metadata": {
    "colab": {
      "provenance": [],
      "authorship_tag": "ABX9TyNPdOB7+YbYFPV0FjTjr8SZ",
      "include_colab_link": true
    },
    "kernelspec": {
      "name": "python3",
      "display_name": "Python 3"
    },
    "language_info": {
      "name": "python"
    }
  },
  "cells": [
    {
      "cell_type": "markdown",
      "metadata": {
        "id": "view-in-github",
        "colab_type": "text"
      },
      "source": [
        "<a href=\"https://colab.research.google.com/github/kevindmzapata/deep-learning-project/blob/main/01_exploracion_de_datos.ipynb\" target=\"_parent\"><img src=\"https://colab.research.google.com/assets/colab-badge.svg\" alt=\"Open In Colab\"/></a>"
      ]
    },
    {
      "cell_type": "markdown",
      "source": [
        "# 01 - Exploración de los Datos\n",
        "\n",
        "## I. Librerias necesarias"
      ],
      "metadata": {
        "id": "BiaHVIj16Plt"
      }
    },
    {
      "cell_type": "code",
      "execution_count": 1,
      "metadata": {
        "id": "O45plYIe6LmM"
      },
      "outputs": [],
      "source": [
        "import numpy as np\n",
        "import matplotlib.pyplot as plt"
      ]
    },
    {
      "cell_type": "code",
      "source": [
        "spacing = {\n",
        "    \"single_ch\":    [14.3, 15.3, 16.3, 17.8, 19.3, 21.3, 23.3, 26.3, 28.3, 31.3, 36.3],\n",
        "    \"18GHz\":        [18, 19, 20, 23, 25, 27, 30, 32, 35, 40],\n",
        "    \"17.6GHz\":      [18, 19, 20, 21.5, 23, 25, 27, 30, 32, 35, 40],\n",
        "    \"17GHz\":        [18, 19, 20, 21.5, 23, 25, 27, 30, 32, 35, 40],\n",
        "    \"16.5GHz\":      [18, 19, 20, 21.5, 23, 25, 27, 30, 32, 35, 40],\n",
        "    \"16GHz\":        [18, 19, 20, 21.5, 23, 25, 27, 30, 32, 35, 40],\n",
        "    \"15.5GHz\":      [20, 21.5, 23, 25, 27, 30, 32, 35, 40],\n",
        "    \"15GHz\":        [23, 25, 27, 30, 32, 35, 40],\n",
        "}"
      ],
      "metadata": {
        "id": "NXCKyxsv6dPS"
      },
      "execution_count": 2,
      "outputs": []
    },
    {
      "cell_type": "code",
      "source": [],
      "metadata": {
        "id": "I0TA9ZLp6fAZ"
      },
      "execution_count": null,
      "outputs": []
    }
  ]
}