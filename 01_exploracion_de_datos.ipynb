{
  "nbformat": 4,
  "nbformat_minor": 0,
  "metadata": {
    "colab": {
      "provenance": [],
      "authorship_tag": "ABX9TyNOvVEf/EzuhmFWmAcAm8KN",
      "include_colab_link": true
    },
    "kernelspec": {
      "name": "python3",
      "display_name": "Python 3"
    },
    "language_info": {
      "name": "python"
    }
  },
  "cells": [
    {
      "cell_type": "markdown",
      "metadata": {
        "id": "view-in-github",
        "colab_type": "text"
      },
      "source": [
        "<a href=\"https://colab.research.google.com/github/kevindmzapata/deep-learning-project/blob/main/01_exploracion_de_datos.ipynb\" target=\"_parent\"><img src=\"https://colab.research.google.com/assets/colab-badge.svg\" alt=\"Open In Colab\"/></a>"
      ]
    },
    {
      "cell_type": "markdown",
      "source": [
        "# 01 - Exploración de los Datos\n",
        "\n",
        "## I. Librerias necesarias"
      ],
      "metadata": {
        "id": "BiaHVIj16Plt"
      }
    },
    {
      "cell_type": "code",
      "source": [
        "!wget -nc --no-cache -O database.zip -q https://raw.githubusercontent.com/kevindmzapata/deep-learning-project/main/database.zip\n",
        "!unzip -n -q database.zip\n",
        "!rm database.zip\n",
        "!wget -nc --no-cache -O utils.py -q https://raw.githubusercontent.com/kevindmzapata/deep-learning-project/main/resources/utils.py"
      ],
      "metadata": {
        "id": "291jYagR9oXt"
      },
      "execution_count": 1,
      "outputs": []
    },
    {
      "cell_type": "code",
      "execution_count": 2,
      "metadata": {
        "id": "O45plYIe6LmM"
      },
      "outputs": [],
      "source": [
        "import numpy as np\n",
        "import matplotlib.pyplot as plt\n",
        "import tensorflow as tf\n",
        "from utils import load_data"
      ]
    },
    {
      "cell_type": "markdown",
      "source": [
        "## II. Cargar las imagenes de la base de datos"
      ],
      "metadata": {
        "id": "1vYFXHL59r5o"
      }
    },
    {
      "cell_type": "code",
      "source": [
        "images, labels, spacing = load_data('database')"
      ],
      "metadata": {
        "id": "9xoOAS419A4b"
      },
      "execution_count": 3,
      "outputs": []
    },
    {
      "cell_type": "code",
      "source": [
        "images.shape, labels.shape, spacing.shape"
      ],
      "metadata": {
        "colab": {
          "base_uri": "https://localhost:8080/"
        },
        "id": "frDT_8qb9aPm",
        "outputId": "b9f84757-ed38-494f-a5ec-b37c86f2e5c6"
      },
      "execution_count": 4,
      "outputs": [
        {
          "output_type": "execute_result",
          "data": {
            "text/plain": [
              "((729, 32, 32), (729,), (729,))"
            ]
          },
          "metadata": {},
          "execution_count": 4
        }
      ]
    },
    {
      "cell_type": "code",
      "source": [
        "print('Minimo de images:', images.min())\n",
        "print('Maximo de images:', images.max())"
      ],
      "metadata": {
        "colab": {
          "base_uri": "https://localhost:8080/"
        },
        "id": "8K8PxLyq9dIN",
        "outputId": "cbbcae50-8d04-46f0-9c30-75e43713212f"
      },
      "execution_count": 5,
      "outputs": [
        {
          "output_type": "stream",
          "name": "stdout",
          "text": [
            "Minimo de images: 0\n",
            "Maximo de images: 255\n"
          ]
        }
      ]
    },
    {
      "cell_type": "code",
      "source": [
        "print('Minimo de labels:', labels.min())\n",
        "print('Maximo de labels:', labels.max())"
      ],
      "metadata": {
        "colab": {
          "base_uri": "https://localhost:8080/"
        },
        "id": "CUBFaB8J9iaU",
        "outputId": "7caa99a6-be45-4960-cbdb-0bed07112184"
      },
      "execution_count": 6,
      "outputs": [
        {
          "output_type": "stream",
          "name": "stdout",
          "text": [
            "Minimo de labels: 18.0\n",
            "Maximo de labels: 40.0\n"
          ]
        }
      ]
    },
    {
      "cell_type": "markdown",
      "source": [
        "## III. Mostrar imágenes"
      ],
      "metadata": {
        "id": "NJ_LpdC--ErF"
      }
    },
    {
      "cell_type": "code",
      "source": [
        "X_sample_idx = np.random.randint(0, images.shape[0], 10)\n",
        "X_sample = images[X_sample_idx]\n",
        "y_sample = labels[X_sample_idx]\n",
        "\n",
        "fig, axes = plt.subplots(1, 10, figsize=(20, 2))\n",
        "for i, ax in enumerate(axes):\n",
        "    ax.set_title(f\"{y_sample[i]} dB\")\n",
        "    ax.imshow(X_sample[i])\n",
        "    ax.axis(\"off\")\n",
        "plt.show()"
      ],
      "metadata": {
        "colab": {
          "base_uri": "https://localhost:8080/",
          "height": 190
        },
        "id": "C0jo6Jjf-Bgu",
        "outputId": "1616463f-8cc8-4d87-e1ae-d77be3d4fd68"
      },
      "execution_count": 7,
      "outputs": [
        {
          "output_type": "display_data",
          "data": {
            "text/plain": [
              "<Figure size 2000x200 with 10 Axes>"
            ],
            "image/png": "[encoded data removed]"
          },
          "metadata": {}
        }
      ]
    },
    {
      "cell_type": "markdown",
      "source": [
        "## III. Normalización de los datos"
      ],
      "metadata": {
        "id": "1Cu9RCWr_A6D"
      }
    },
    {
      "cell_type": "code",
      "source": [
        "X = images.reshape(images.shape[0], images.shape[1] * images.shape[2]) / images.max()\n",
        "y = labels.reshape(labels.shape[0], 1)\n",
        "\n",
        "X.shape, y.shape"
      ],
      "metadata": {
        "colab": {
          "base_uri": "https://localhost:8080/"
        },
        "id": "DaTiKixF_E9V",
        "outputId": "e834833e-c16d-4dd8-c77a-c01e846a9355"
      },
      "execution_count": 8,
      "outputs": [
        {
          "output_type": "execute_result",
          "data": {
            "text/plain": [
              "((729, 1024), (729, 1))"
            ]
          },
          "metadata": {},
          "execution_count": 8
        }
      ]
    },
    {
      "cell_type": "code",
      "source": [
        "ch = np.eye(len(np.unique(y)))[spacing]\n",
        "ch.shape"
      ],
      "metadata": {
        "colab": {
          "base_uri": "https://localhost:8080/"
        },
        "id": "cBL5wDa4_XFc",
        "outputId": "939119cd-8db8-4417-a186-422244482cae"
      },
      "execution_count": 9,
      "outputs": [
        {
          "output_type": "execute_result",
          "data": {
            "text/plain": [
              "(729, 11)"
            ]
          },
          "metadata": {},
          "execution_count": 9
        }
      ]
    },
    {
      "cell_type": "code",
      "source": [
        "X.min(), X.max(), y.min(), y.max(), ch.min(), ch.max()"
      ],
      "metadata": {
        "colab": {
          "base_uri": "https://localhost:8080/"
        },
        "id": "QANmWBrcB8d8",
        "outputId": "c868273e-3c71-413d-a631-c0593b440db1"
      },
      "execution_count": 10,
      "outputs": [
        {
          "output_type": "execute_result",
          "data": {
            "text/plain": [
              "(0.0, 1.0, 18.0, 40.0, 0.0, 1.0)"
            ]
          },
          "metadata": {},
          "execution_count": 10
        }
      ]
    },
    {
      "cell_type": "code",
      "source": [
        "# Codificación One Hot\n",
        "print(ch[:5])"
      ],
      "metadata": {
        "colab": {
          "base_uri": "https://localhost:8080/"
        },
        "id": "ptiNA44bCEdT",
        "outputId": "7a9adb99-0c17-4d1c-8fec-4a46ed1282f1"
      },
      "execution_count": 11,
      "outputs": [
        {
          "output_type": "stream",
          "name": "stdout",
          "text": [
            "[[0. 1. 0. 0. 0. 0. 0. 0. 0. 0. 0.]\n",
            " [0. 0. 0. 0. 1. 0. 0. 0. 0. 0. 0.]\n",
            " [0. 0. 0. 0. 0. 1. 0. 0. 0. 0. 0.]\n",
            " [1. 0. 0. 0. 0. 0. 0. 0. 0. 0. 0.]\n",
            " [0. 1. 0. 0. 0. 0. 0. 0. 0. 0. 0.]]\n"
          ]
        }
      ]
    }
  ]
}